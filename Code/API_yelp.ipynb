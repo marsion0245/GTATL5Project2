{
 "cells": [
  {
   "cell_type": "code",
   "execution_count": 7,
   "metadata": {},
   "outputs": [],
   "source": [
    "import requests\n",
    "import json\n",
    "import numpy as np"
   ]
  },
  {
   "cell_type": "code",
   "execution_count": 8,
   "metadata": {},
   "outputs": [],
   "source": [
    "api_key='geIL1lciI7tDoWQnwFZid8Z-II8OpHb7uC8LxHemkh9sSHvliydrgj7KQbyWUoSXu39aYpK_Dl2rJTMvI2swv2HJCNDyz2Ths6Cxutk3xLeZddupKOtYNcdYiPJuXXYx'\n",
    "headers = {'Authorization': 'Bearer %s' % api_key}"
   ]
  },
  {
   "cell_type": "code",
   "execution_count": 76,
   "metadata": {},
   "outputs": [],
   "source": [
    "list_restaurants=[]"
   ]
  },
  {
   "cell_type": "code",
   "execution_count": 77,
   "metadata": {
    "scrolled": false
   },
   "outputs": [
    {
     "name": "stdout",
     "output_type": "stream",
     "text": [
      "<class 'list'>\n",
      "5\n",
      "5\n",
      "<class 'list'>\n",
      "5\n",
      "10\n",
      "<class 'list'>\n",
      "5\n",
      "15\n",
      "<class 'list'>\n",
      "5\n",
      "20\n",
      "<class 'list'>\n",
      "5\n",
      "25\n"
     ]
    }
   ],
   "source": [
    "#Business Search \n",
    "url='https://api.yelp.com/v3/businesses/search'\n",
    "\n",
    "for i in range(0,5):\n",
    "    off_set=i*50\n",
    "    # In the dictionary, term can take values like food, cafes or businesses like McDonalds\n",
    "    params = {'location':'USA','categories':'restaurants','limit':5,'offset':off_set}\n",
    "    # Making a get request to the API\n",
    "    req=requests.get(url, params=params, headers=headers)\n",
    "    req_temp=req.json()['businesses']\n",
    "    print(type(req_temp))\n",
    "    print(len(req_temp))\n",
    "    #print(req_temp)\n",
    "    #response_json.append(req_temp)\n",
    "    # proceed only if the status code is 200\n",
    "    #print('The status code is {}'.format(req.status_code))\n",
    "    for item in req_temp:\n",
    "        list_restaurants.append(item)\n",
    "    print(len(list_restaurants))\n",
    "    #print(json.dumps(response_json, indent=4, sort_keys=True))"
   ]
  },
  {
   "cell_type": "code",
   "execution_count": 83,
   "metadata": {},
   "outputs": [
    {
     "name": "stdout",
     "output_type": "stream",
     "text": [
      "0\n"
     ]
    },
    {
     "data": {
      "text/plain": [
       "{'businesses': [{'id': '3sGEIoyXkMmc1YX1TYkSMg',\n",
       "   'alias': 'aha-fresh-san-francisco',\n",
       "   'name': 'Aha Fresh',\n",
       "   'image_url': 'https://s3-media2.fl.yelpcdn.com/bphoto/EJ9p6FvfqvBIXSpRqhYa0Q/o.jpg',\n",
       "   'is_closed': False,\n",
       "   'url': 'https://www.yelp.com/biz/aha-fresh-san-francisco?adjust_creative=oF0wYNbUon_I50ZE1mafbg&utm_campaign=yelp_api_v3&utm_medium=api_v3_business_search&utm_source=oF0wYNbUon_I50ZE1mafbg',\n",
       "   'review_count': 977,\n",
       "   'categories': [{'alias': 'breakfast_brunch', 'title': 'Breakfast & Brunch'},\n",
       "    {'alias': 'burgers', 'title': 'Burgers'}],\n",
       "   'rating': 4.0,\n",
       "   'coordinates': {'latitude': 37.751351, 'longitude': -122.432183},\n",
       "   'transactions': ['pickup'],\n",
       "   'price': '$$',\n",
       "   'location': {'address1': '4007 24th St',\n",
       "    'address2': '',\n",
       "    'address3': '',\n",
       "    'city': 'San Francisco',\n",
       "    'zip_code': '94114',\n",
       "    'country': 'US',\n",
       "    'state': 'CA',\n",
       "    'display_address': ['4007 24th St', 'San Francisco, CA 94114']},\n",
       "   'phone': '+14156477037',\n",
       "   'display_phone': '(415) 647-7037',\n",
       "   'distance': 1125.9682909818853},\n",
       "  {'id': 'rj3zIk7t9ySGMxVGGTA8gg',\n",
       "   'alias': 'fino-ristorante-and-bar-san-francisco',\n",
       "   'name': 'Fino Ristorante & Bar',\n",
       "   'image_url': 'https://s3-media4.fl.yelpcdn.com/bphoto/jFNTzbF26EtLoi0wpA2DJw/o.jpg',\n",
       "   'is_closed': False,\n",
       "   'url': 'https://www.yelp.com/biz/fino-ristorante-and-bar-san-francisco?adjust_creative=oF0wYNbUon_I50ZE1mafbg&utm_campaign=yelp_api_v3&utm_medium=api_v3_business_search&utm_source=oF0wYNbUon_I50ZE1mafbg',\n",
       "   'review_count': 1137,\n",
       "   'categories': [{'alias': 'italian', 'title': 'Italian'},\n",
       "    {'alias': 'desserts', 'title': 'Desserts'},\n",
       "    {'alias': 'pizza', 'title': 'Pizza'}],\n",
       "   'rating': 4.0,\n",
       "   'coordinates': {'latitude': 37.7879880715968,\n",
       "    'longitude': -122.412287082989},\n",
       "   'transactions': [],\n",
       "   'price': '$$$',\n",
       "   'location': {'address1': '624 Post St',\n",
       "    'address2': '',\n",
       "    'address3': '',\n",
       "    'city': 'San Francisco',\n",
       "    'zip_code': '94109',\n",
       "    'country': 'US',\n",
       "    'state': 'CA',\n",
       "    'display_address': ['624 Post St', 'San Francisco, CA 94109']},\n",
       "   'phone': '+14159282080',\n",
       "   'display_phone': '(415) 928-2080',\n",
       "   'distance': 3685.3726958151933},\n",
       "  {'id': 'Xdx2_n3nk9Td_aSe7E5ARQ',\n",
       "   'alias': 'rich-table-san-francisco',\n",
       "   'name': 'Rich Table',\n",
       "   'image_url': 'https://s3-media2.fl.yelpcdn.com/bphoto/Iee1qOPRlkavR8Cw2w97bQ/o.jpg',\n",
       "   'is_closed': False,\n",
       "   'url': 'https://www.yelp.com/biz/rich-table-san-francisco?adjust_creative=oF0wYNbUon_I50ZE1mafbg&utm_campaign=yelp_api_v3&utm_medium=api_v3_business_search&utm_source=oF0wYNbUon_I50ZE1mafbg',\n",
       "   'review_count': 1165,\n",
       "   'categories': [{'alias': 'newamerican', 'title': 'American (New)'},\n",
       "    {'alias': 'cocktailbars', 'title': 'Cocktail Bars'},\n",
       "    {'alias': 'wine_bars', 'title': 'Wine Bars'}],\n",
       "   'rating': 4.0,\n",
       "   'coordinates': {'latitude': 37.77485, 'longitude': -122.42284},\n",
       "   'transactions': [],\n",
       "   'price': '$$$',\n",
       "   'location': {'address1': '199 Gough St',\n",
       "    'address2': None,\n",
       "    'address3': '',\n",
       "    'city': 'San Francisco',\n",
       "    'zip_code': '94102',\n",
       "    'country': 'US',\n",
       "    'state': 'CA',\n",
       "    'display_address': ['199 Gough St', 'San Francisco, CA 94102']},\n",
       "   'phone': '+14153559085',\n",
       "   'display_phone': '(415) 355-9085',\n",
       "   'distance': 1961.4214691036389},\n",
       "  {'id': 'yNU6sPRWzVl0ngCRqat1TQ',\n",
       "   'alias': 'bobos-san-francisco-14',\n",
       "   'name': \"Bobo's\",\n",
       "   'image_url': 'https://s3-media3.fl.yelpcdn.com/bphoto/-7d1ZYtDNxrzi6V5rcDoDg/o.jpg',\n",
       "   'is_closed': False,\n",
       "   'url': 'https://www.yelp.com/biz/bobos-san-francisco-14?adjust_creative=oF0wYNbUon_I50ZE1mafbg&utm_campaign=yelp_api_v3&utm_medium=api_v3_business_search&utm_source=oF0wYNbUon_I50ZE1mafbg',\n",
       "   'review_count': 2057,\n",
       "   'categories': [{'alias': 'steak', 'title': 'Steakhouses'},\n",
       "    {'alias': 'seafood', 'title': 'Seafood'}],\n",
       "   'rating': 4.0,\n",
       "   'coordinates': {'latitude': 37.8014088795149,\n",
       "    'longitude': -122.425744103705},\n",
       "   'transactions': [],\n",
       "   'price': '$$$',\n",
       "   'location': {'address1': '1450 Lombard St',\n",
       "    'address2': '',\n",
       "    'address3': '',\n",
       "    'city': 'San Francisco',\n",
       "    'zip_code': '94123',\n",
       "    'country': 'US',\n",
       "    'state': 'CA',\n",
       "    'display_address': ['1450 Lombard St', 'San Francisco, CA 94123']},\n",
       "   'phone': '+14154418880',\n",
       "   'display_phone': '(415) 441-8880',\n",
       "   'distance': 4601.607365719987},\n",
       "  {'id': 'u2qFhVAiH3kQIGhEW6PmMA',\n",
       "   'alias': 'zushi-puzzle-san-francisco-2',\n",
       "   'name': 'Zushi Puzzle',\n",
       "   'image_url': 'https://s3-media1.fl.yelpcdn.com/bphoto/fJPezRTZAvOuzyRwS06UQg/o.jpg',\n",
       "   'is_closed': False,\n",
       "   'url': 'https://www.yelp.com/biz/zushi-puzzle-san-francisco-2?adjust_creative=oF0wYNbUon_I50ZE1mafbg&utm_campaign=yelp_api_v3&utm_medium=api_v3_business_search&utm_source=oF0wYNbUon_I50ZE1mafbg',\n",
       "   'review_count': 1332,\n",
       "   'categories': [{'alias': 'sushi', 'title': 'Sushi Bars'},\n",
       "    {'alias': 'japanese', 'title': 'Japanese'},\n",
       "    {'alias': 'salad', 'title': 'Salad'}],\n",
       "   'rating': 4.0,\n",
       "   'coordinates': {'latitude': 37.80052, 'longitude': -122.43308},\n",
       "   'transactions': [],\n",
       "   'price': '$$$',\n",
       "   'location': {'address1': '1910 Lombard St',\n",
       "    'address2': '',\n",
       "    'address3': '',\n",
       "    'city': 'San Francisco',\n",
       "    'zip_code': '94123',\n",
       "    'country': 'US',\n",
       "    'state': 'CA',\n",
       "    'display_address': ['1910 Lombard St', 'San Francisco, CA 94123']},\n",
       "   'phone': '+14159319319',\n",
       "   'display_phone': '(415) 931-9319',\n",
       "   'distance': 4400.161669890425}],\n",
       " 'total': 4400,\n",
       " 'region': {'center': {'longitude': -122.43644714355469,\n",
       "   'latitude': 37.76089938976322}}}"
      ]
     },
     "execution_count": 83,
     "metadata": {},
     "output_type": "execute_result"
    }
   ],
   "source": [
    "# printing the text from the response \n",
    "print(len(response_json))\n",
    "json.loads(req.text)"
   ]
  },
  {
   "cell_type": "code",
   "execution_count": 86,
   "metadata": {},
   "outputs": [],
   "source": [
    "with open('data.txt', 'w') as outfile:\n",
    "    json.dump(list_restaurants, outfile)\n",
    "    \n",
    "    "
   ]
  },
  {
   "cell_type": "code",
   "execution_count": 85,
   "metadata": {},
   "outputs": [],
   "source": [
    "with open('YelpData.txt', 'w') as outfile1:\n",
    "    outfile1.write(req.text)"
   ]
  },
  {
   "cell_type": "code",
   "execution_count": null,
   "metadata": {},
   "outputs": [],
   "source": []
  }
 ],
 "metadata": {
  "kernelspec": {
   "display_name": "Python(PythonData)",
   "language": "python",
   "name": "pythondata"
  },
  "language_info": {
   "codemirror_mode": {
    "name": "ipython",
    "version": 3
   },
   "file_extension": ".py",
   "mimetype": "text/x-python",
   "name": "python",
   "nbconvert_exporter": "python",
   "pygments_lexer": "ipython3",
   "version": "3.6.8"
  }
 },
 "nbformat": 4,
 "nbformat_minor": 2
}
