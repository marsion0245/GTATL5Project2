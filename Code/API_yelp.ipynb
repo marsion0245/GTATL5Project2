{
 "cells": [
  {
   "cell_type": "code",
   "execution_count": 1,
   "metadata": {},
   "outputs": [],
   "source": [
    "import requests\n",
    "import json\n",
    "import numpy as np\n",
    "import csv"
   ]
  },
  {
   "cell_type": "code",
   "execution_count": 2,
   "metadata": {},
   "outputs": [],
   "source": [
    "api_key='geIL1lciI7tDoWQnwFZid8Z-II8OpHb7uC8LxHemkh9sSHvliydrgj7KQbyWUoSXu39aYpK_Dl2rJTMvI2swv2HJCNDyz2Ths6Cxutk3xLeZddupKOtYNcdYiPJuXXYx'\n",
    "headers = {'Authorization': 'Bearer %s' % api_key}"
   ]
  },
  {
   "cell_type": "code",
   "execution_count": 3,
   "metadata": {},
   "outputs": [],
   "source": [
    "list_restaurants=[]"
   ]
  },
  {
   "cell_type": "code",
   "execution_count": 4,
   "metadata": {
    "scrolled": false
   },
   "outputs": [
    {
     "ename": "UnicodeEncodeError",
     "evalue": "'charmap' codec can't encode character '\\u016b' in position 24: character maps to <undefined>",
     "output_type": "error",
     "traceback": [
      "\u001b[1;31m---------------------------------------------------------------------------\u001b[0m",
      "\u001b[1;31mUnicodeEncodeError\u001b[0m                        Traceback (most recent call last)",
      "\u001b[1;32m<ipython-input-4-9487716dff8b>\u001b[0m in \u001b[0;36m<module>\u001b[1;34m\u001b[0m\n\u001b[0;32m     31\u001b[0m              \u001b[0mcsvwriter\u001b[0m\u001b[1;33m.\u001b[0m\u001b[0mwriterow\u001b[0m\u001b[1;33m(\u001b[0m\u001b[0mheader\u001b[0m\u001b[1;33m)\u001b[0m\u001b[1;33m\u001b[0m\u001b[1;33m\u001b[0m\u001b[0m\n\u001b[0;32m     32\u001b[0m              \u001b[0mcount\u001b[0m \u001b[1;33m+=\u001b[0m \u001b[1;36m1\u001b[0m\u001b[1;33m\u001b[0m\u001b[1;33m\u001b[0m\u001b[0m\n\u001b[1;32m---> 33\u001b[1;33m           \u001b[0mcsvwriter\u001b[0m\u001b[1;33m.\u001b[0m\u001b[0mwriterow\u001b[0m\u001b[1;33m(\u001b[0m\u001b[0mres\u001b[0m\u001b[1;33m.\u001b[0m\u001b[0mvalues\u001b[0m\u001b[1;33m(\u001b[0m\u001b[1;33m)\u001b[0m\u001b[1;33m)\u001b[0m\u001b[1;33m\u001b[0m\u001b[1;33m\u001b[0m\u001b[0m\n\u001b[0m\u001b[0;32m     34\u001b[0m \u001b[1;33m\u001b[0m\u001b[0m\n",
      "\u001b[1;32m~\\APpData\\Local\\Continuum\\anaconda3\\envs\\PythonData\\lib\\encodings\\cp1252.py\u001b[0m in \u001b[0;36mencode\u001b[1;34m(self, input, final)\u001b[0m\n\u001b[0;32m     17\u001b[0m \u001b[1;32mclass\u001b[0m \u001b[0mIncrementalEncoder\u001b[0m\u001b[1;33m(\u001b[0m\u001b[0mcodecs\u001b[0m\u001b[1;33m.\u001b[0m\u001b[0mIncrementalEncoder\u001b[0m\u001b[1;33m)\u001b[0m\u001b[1;33m:\u001b[0m\u001b[1;33m\u001b[0m\u001b[1;33m\u001b[0m\u001b[0m\n\u001b[0;32m     18\u001b[0m     \u001b[1;32mdef\u001b[0m \u001b[0mencode\u001b[0m\u001b[1;33m(\u001b[0m\u001b[0mself\u001b[0m\u001b[1;33m,\u001b[0m \u001b[0minput\u001b[0m\u001b[1;33m,\u001b[0m \u001b[0mfinal\u001b[0m\u001b[1;33m=\u001b[0m\u001b[1;32mFalse\u001b[0m\u001b[1;33m)\u001b[0m\u001b[1;33m:\u001b[0m\u001b[1;33m\u001b[0m\u001b[1;33m\u001b[0m\u001b[0m\n\u001b[1;32m---> 19\u001b[1;33m         \u001b[1;32mreturn\u001b[0m \u001b[0mcodecs\u001b[0m\u001b[1;33m.\u001b[0m\u001b[0mcharmap_encode\u001b[0m\u001b[1;33m(\u001b[0m\u001b[0minput\u001b[0m\u001b[1;33m,\u001b[0m\u001b[0mself\u001b[0m\u001b[1;33m.\u001b[0m\u001b[0merrors\u001b[0m\u001b[1;33m,\u001b[0m\u001b[0mencoding_table\u001b[0m\u001b[1;33m)\u001b[0m\u001b[1;33m[\u001b[0m\u001b[1;36m0\u001b[0m\u001b[1;33m]\u001b[0m\u001b[1;33m\u001b[0m\u001b[1;33m\u001b[0m\u001b[0m\n\u001b[0m\u001b[0;32m     20\u001b[0m \u001b[1;33m\u001b[0m\u001b[0m\n\u001b[0;32m     21\u001b[0m \u001b[1;32mclass\u001b[0m \u001b[0mIncrementalDecoder\u001b[0m\u001b[1;33m(\u001b[0m\u001b[0mcodecs\u001b[0m\u001b[1;33m.\u001b[0m\u001b[0mIncrementalDecoder\u001b[0m\u001b[1;33m)\u001b[0m\u001b[1;33m:\u001b[0m\u001b[1;33m\u001b[0m\u001b[1;33m\u001b[0m\u001b[0m\n",
      "\u001b[1;31mUnicodeEncodeError\u001b[0m: 'charmap' codec can't encode character '\\u016b' in position 24: character maps to <undefined>"
     ]
    }
   ],
   "source": [
    "#Business Search \n",
    "url='https://api.yelp.com/v3/businesses/search'\n",
    "\n",
    "for i in range(0,20):\n",
    "    limit=50\n",
    "    off_set=i*limit\n",
    "    # In the dictionary, term can take values like food, cafes or businesses like McDonalds\n",
    "    params = {'location':'USA','categories':'restaurants','limit':limit,'offset':off_set}\n",
    "    # Making a get request to the API\n",
    "    bussiness=requests.get(url, params=params, headers=headers)\n",
    "    req=bussiness\n",
    "    req_temp=req.json()['businesses']\n",
    "    #print(type(req_temp))\n",
    "    #print(len(req_temp))\n",
    "    # proceed only if the status code is 200\n",
    "    #print('The status code is {}'.format(req.status_code))\n",
    "    for item in req_temp:\n",
    "        list_restaurants.append(item)\n",
    "    #print(type(list_restaurants))\n",
    "    #print(len(list_restaurants))\n",
    "    #print(json.dumps(response_json, indent=4, sort_keys=True))\n",
    "    #Restaurants_data = open('RestaurantData.csv', 'a')\n",
    "    with open('RestaurantData.csv', 'a') as Restaurants_data:\n",
    "    # create the csv writer object\n",
    "\n",
    "        csvwriter = csv.writer(Restaurants_data)\n",
    "        count = 0\n",
    "        for res in req_temp:\n",
    "          if i == 0 and count==0:\n",
    "             header = res.keys()\n",
    "             csvwriter.writerow(header)\n",
    "             count += 1\n",
    "          csvwriter.writerow(res.values())\n",
    "\n"
   ]
  },
  {
   "cell_type": "code",
   "execution_count": null,
   "metadata": {},
   "outputs": [],
   "source": [
    "# printing the text from the response \n",
    "print(len(list_restaurants))\n",
    "#json.loads(req.text)"
   ]
  },
  {
   "cell_type": "code",
   "execution_count": null,
   "metadata": {},
   "outputs": [],
   "source": [
    "#with open('data.csv', 'w') as outfile:\n",
    "#    json.dump(list_restaurants, outfile)\n",
    "    \n",
    "    "
   ]
  },
  {
   "cell_type": "code",
   "execution_count": null,
   "metadata": {},
   "outputs": [],
   "source": [
    "##with open('YelpData.txt', 'w') as outfile1:\n",
    "#    outfile1.write(req.txt)"
   ]
  },
  {
   "cell_type": "code",
   "execution_count": null,
   "metadata": {},
   "outputs": [],
   "source": [
    "#converting json to csv\n",
    "\n",
    "\n",
    "# open a file for writing\n",
    "\n",
    "#Restaurants_data = open('RestaurantData.csv', 'w')\n",
    "\n",
    "# create the csv writer object\n",
    "\n",
    "#csvwriter = csv.writer(Restaurants_data)\n",
    "\n",
    "#count = 0\n",
    "\n",
    "##for res in list_restaurants:\n",
    "\n",
    " #3     if count == 0:\n",
    "\n",
    "#header = res.keys()\n",
    "\n",
    " #            csvwriter.writerow(header)\n",
    "\n",
    " #            count += 1\n",
    "\n",
    "  #    csvwriter.writerow(res.values())\n",
    "\n"
   ]
  },
  {
   "cell_type": "code",
   "execution_count": null,
   "metadata": {},
   "outputs": [],
   "source": []
  }
 ],
 "metadata": {
  "kernelspec": {
   "display_name": "Python(PythonData)",
   "language": "python",
   "name": "pythondata"
  },
  "language_info": {
   "codemirror_mode": {
    "name": "ipython",
    "version": 3
   },
   "file_extension": ".py",
   "mimetype": "text/x-python",
   "name": "python",
   "nbconvert_exporter": "python",
   "pygments_lexer": "ipython3",
   "version": "3.6.8"
  }
 },
 "nbformat": 4,
 "nbformat_minor": 2
}
