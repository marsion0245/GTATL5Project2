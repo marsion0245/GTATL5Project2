{
 "cells": [
  {
   "cell_type": "code",
   "execution_count": 1,
   "metadata": {},
   "outputs": [],
   "source": [
    "import requests\n",
    "import json\n",
    "import numpy as np"
   ]
  },
  {
   "cell_type": "code",
   "execution_count": 2,
   "metadata": {},
   "outputs": [],
   "source": [
    "api_key=''\n",
    "headers = {'Authorization': 'Bearer %s' % api_key}"
   ]
  },
  {
   "cell_type": "code",
   "execution_count": 3,
   "metadata": {},
   "outputs": [],
   "source": [
    "list_restaurants=[]"
   ]
  },
  {
   "cell_type": "code",
   "execution_count": 5,
   "metadata": {
    "scrolled": false
   },
   "outputs": [],
   "source": [
    "#Business Search \n",
    "url='https://api.yelp.com/v3/businesses/search'\n",
    "\n",
    "for i in range(0,50):\n",
    "    limit=50\n",
    "    off_set=i*limit\n",
    "    # In the dictionary, term can take values like food, cafes or businesses like McDonalds\n",
    "    params = {'location':'USA','categories':'restaurants','limit':limit,'offset':off_set}\n",
    "    # Making a get request to the API\n",
    "    bussiness=requests.get(url, params=params, headers=headers)\n",
    "    req=bussiness\n",
    "    req_temp=req.json()['businesses']\n",
    "    #print(type(req_temp))\n",
    "    #print(len(req_temp))\n",
    "    # proceed only if the status code is 200\n",
    "    #print('The status code is {}'.format(req.status_code))\n",
    "    for item in req_temp:\n",
    "        list_restaurants.append(item)\n",
    "    #print(len(list_restaurants))\n",
    "    #print(json.dumps(response_json, indent=4, sort_keys=True))"
   ]
  },
  {
   "cell_type": "code",
   "execution_count": 6,
   "metadata": {},
   "outputs": [
    {
     "name": "stdout",
     "output_type": "stream",
     "text": [
      "1500\n"
     ]
    }
   ],
   "source": [
    "# printing the text from the response \n",
    "print(len(list_restaurants))\n",
    "#json.loads(req.text)"
   ]
  },
  {
   "cell_type": "code",
   "execution_count": 7,
   "metadata": {},
   "outputs": [],
   "source": [
    "with open('data.csv', 'w') as outfile:\n",
    "    json.dump(list_restaurants, outfile)\n",
    "    \n",
    "    "
   ]
  },
  {
   "cell_type": "code",
   "execution_count": 8,
   "metadata": {},
   "outputs": [],
   "source": [
    "with open('YelpData.txt', 'w') as outfile1:\n",
    "    outfile1.write(req.text)"
   ]
  },
  {
   "cell_type": "code",
   "execution_count": null,
   "metadata": {},
   "outputs": [],
   "source": [
    "#converting json to csv\n",
    "import csv\n",
    "\n",
    "# open a file for writing\n",
    "\n",
    "Restaurants_data = open('RestaurantData.csv', 'w')\n",
    "\n",
    "# create the csv writer object\n",
    "\n",
    "csvwriter = csv.writer(Restaurants_data)\n",
    "\n",
    "count = 0\n",
    "\n",
    "for res in req_temp:\n",
    "\n",
    "      if count == 0:\n",
    "\n",
    "             header = res.keys()\n",
    "\n",
    "             csvwriter.writerow(header)\n",
    "\n",
    "             count += 1\n",
    "\n",
    "      csvwriter.writerow(res.values())\n",
    "\n"
   ]
  },
  {
   "cell_type": "code",
   "execution_count": null,
   "metadata": {},
   "outputs": [],
   "source": []
  }
 ],
 "metadata": {
  "kernelspec": {
   "display_name": "Python(PythonData)",
   "language": "python",
   "name": "pythondata"
  },
  "language_info": {
   "codemirror_mode": {
    "name": "ipython",
    "version": 3
   },
   "file_extension": ".py",
   "mimetype": "text/x-python",
   "name": "python",
   "nbconvert_exporter": "python",
   "pygments_lexer": "ipython3",
   "version": "3.6.8"
  }
 },
 "nbformat": 4,
 "nbformat_minor": 2
}
